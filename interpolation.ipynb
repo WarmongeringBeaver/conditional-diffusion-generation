{
 "cells": [
  {
   "attachments": {},
   "cell_type": "markdown",
   "metadata": {},
   "source": [
    "# Conditional DDIM interpolation"
   ]
  },
  {
   "attachments": {},
   "cell_type": "markdown",
   "metadata": {},
   "source": [
    "# Imports"
   ]
  },
  {
   "cell_type": "code",
   "execution_count": 10,
   "metadata": {},
   "outputs": [],
   "source": [
    "from pathlib import Path\n",
    "import numpy as np\n",
    "import torch"
   ]
  },
  {
   "cell_type": "code",
   "execution_count": 1,
   "metadata": {},
   "outputs": [],
   "source": [
    "from src.conditional_ddim import ConditionialDDIMPipeline"
   ]
  },
  {
   "attachments": {},
   "cell_type": "markdown",
   "metadata": {},
   "source": [
    "# Device"
   ]
  },
  {
   "cell_type": "code",
   "execution_count": 11,
   "metadata": {},
   "outputs": [],
   "source": [
    "device = \"cuda\""
   ]
  },
  {
   "attachments": {},
   "cell_type": "markdown",
   "metadata": {},
   "source": [
    "# Load pretrained pipeline"
   ]
  },
  {
   "cell_type": "code",
   "execution_count": 4,
   "metadata": {},
   "outputs": [],
   "source": [
    "path = Path(\"experiments\", \"REMOVEME_functional_test\", \"full_pipeline_save\")\n",
    "assert path.exists()"
   ]
  },
  {
   "cell_type": "code",
   "execution_count": 12,
   "metadata": {},
   "outputs": [],
   "source": [
    "pipeline = ConditionialDDIMPipeline.from_pretrained(path)\n",
    "unet = pipeline.unet\n",
    "scheduler = pipeline.scheduler"
   ]
  },
  {
   "attachments": {},
   "cell_type": "markdown",
   "metadata": {},
   "source": [
    "# Make a `UNet2DConditionModel` from a `UNet2DModel`"
   ]
  },
  {
   "cell_type": "code",
   "execution_count": null,
   "metadata": {},
   "outputs": [],
   "source": [
    "unet_explicit_cond = ..."
   ]
  },
  {
   "attachments": {},
   "cell_type": "markdown",
   "metadata": {},
   "source": [
    "# Interpolate"
   ]
  },
  {
   "attachments": {},
   "cell_type": "markdown",
   "metadata": {},
   "source": [
    "## Get base class embedding"
   ]
  },
  {
   "cell_type": "code",
   "execution_count": null,
   "metadata": {},
   "outputs": [],
   "source": [
    "DMSO_embedding = ...\n",
    "cyto_B30_embedding = ..."
   ]
  },
  {
   "attachments": {},
   "cell_type": "markdown",
   "metadata": {},
   "source": [
    "## Generate interpolated images"
   ]
  },
  {
   "cell_type": "code",
   "execution_count": 13,
   "metadata": {},
   "outputs": [],
   "source": [
    "num_inference_steps = 100"
   ]
  },
  {
   "cell_type": "code",
   "execution_count": null,
   "metadata": {},
   "outputs": [],
   "source": [
    "image_list = []\n",
    "\n",
    "for x in np.linspace(0, 1, 100):\n",
    "    # sample gaussian noise to begin generation loop\n",
    "    image_shape = (\n",
    "        1,\n",
    "        unet.config.in_channels,\n",
    "        unet.config.sample_size,\n",
    "        unet.config.sample_size,\n",
    "    )\n",
    "\n",
    "    image = torch.randn(image_shape, device=device, dtype=unet.dtype)\n",
    "\n",
    "    # set step values\n",
    "    scheduler.set_timesteps(num_inference_steps)\n",
    "\n",
    "    # get interpolated class embedding\n",
    "    class_embedding = x * DMSO_embedding + (1 - x) * cyto_B30_embedding\n",
    "\n",
    "    for t in range(scheduler.timesteps):\n",
    "        # 1. predict noise model_output\n",
    "        model_output = unet_explicit_cond(image, t, class_embedding).sample\n",
    "\n",
    "        # 2. predict previous mean of image x_t-1 and add variance depending on eta\n",
    "        # eta corresponds to η in paper and should be between [0, 1]\n",
    "        # do x_t -> x_t-1\n",
    "        image = scheduler.step(\n",
    "            model_output,\n",
    "            t,\n",
    "            image,\n",
    "        ).prev_sample\n",
    "\n",
    "    image = (image / 2 + 0.5).clamp(0, 1)\n",
    "    image = image.cpu().permute(0, 2, 3, 1).numpy()\n",
    "    image = pipeline.numpy_to_pil(image)\n",
    "\n",
    "    image_list.append(image)"
   ]
  }
 ],
 "metadata": {
  "kernelspec": {
   "display_name": "diffusion-experiments",
   "language": "python",
   "name": "python3"
  },
  "language_info": {
   "codemirror_mode": {
    "name": "ipython",
    "version": 3
   },
   "file_extension": ".py",
   "mimetype": "text/x-python",
   "name": "python",
   "nbconvert_exporter": "python",
   "pygments_lexer": "ipython3",
   "version": "3.10.11"
  },
  "orig_nbformat": 4
 },
 "nbformat": 4,
 "nbformat_minor": 2
}
